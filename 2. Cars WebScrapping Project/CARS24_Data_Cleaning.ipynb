{
 "cells": [
  {
   "cell_type": "code",
   "execution_count": 1,
   "metadata": {
    "colab": {
     "base_uri": "https://localhost:8080/",
     "height": 310
    },
    "id": "BN3whdUu2njN",
    "outputId": "a0282f4b-55ce-40ff-da3d-d7bd878fdfda"
   },
   "outputs": [
    {
     "name": "stderr",
     "output_type": "stream",
     "text": [
      "C:\\Users\\USER\\anaconda3\\Lib\\site-packages\\pandas\\core\\arrays\\masked.py:60: UserWarning: Pandas requires version '1.3.6' or newer of 'bottleneck' (version '1.3.5' currently installed).\n",
      "  from pandas.core import (\n"
     ]
    },
    {
     "data": {
      "text/html": [
       "<div>\n",
       "<style scoped>\n",
       "    .dataframe tbody tr th:only-of-type {\n",
       "        vertical-align: middle;\n",
       "    }\n",
       "\n",
       "    .dataframe tbody tr th {\n",
       "        vertical-align: top;\n",
       "    }\n",
       "\n",
       "    .dataframe thead th {\n",
       "        text-align: right;\n",
       "    }\n",
       "</style>\n",
       "<table border=\"1\" class=\"dataframe\">\n",
       "  <thead>\n",
       "    <tr style=\"text-align: right;\">\n",
       "      <th></th>\n",
       "      <th>link</th>\n",
       "      <th>make</th>\n",
       "      <th>model</th>\n",
       "      <th>year_of_manufacture</th>\n",
       "      <th>km_driven</th>\n",
       "      <th>fuel_type</th>\n",
       "      <th>ownership</th>\n",
       "      <th>price</th>\n",
       "      <th>location</th>\n",
       "      <th>Reg year</th>\n",
       "      <th>Make year</th>\n",
       "      <th>Reg number</th>\n",
       "      <th>Engine capacity</th>\n",
       "      <th>Spare key</th>\n",
       "      <th>Transmission</th>\n",
       "      <th>KM driven</th>\n",
       "      <th>Fuel type</th>\n",
       "    </tr>\n",
       "  </thead>\n",
       "  <tbody>\n",
       "    <tr>\n",
       "      <th>0</th>\n",
       "      <td>https://www.cars24.com/buy-used-maruti-swift-d...</td>\n",
       "      <td>Maruti</td>\n",
       "      <td>Swift Dzire VDI</td>\n",
       "      <td>2013</td>\n",
       "      <td>1,09,035 km</td>\n",
       "      <td>Diesel</td>\n",
       "      <td>2nd owner</td>\n",
       "      <td>₹4.25L</td>\n",
       "      <td>Bachupally, Hyderabad</td>\n",
       "      <td>Apr 2013</td>\n",
       "      <td>2013</td>\n",
       "      <td>AP10-BD4428Engine</td>\n",
       "      <td>1248 cc</td>\n",
       "      <td>YesTransmission</td>\n",
       "      <td>ManualKM</td>\n",
       "      <td>109,035 km</td>\n",
       "      <td>Diesel2013</td>\n",
       "    </tr>\n",
       "    <tr>\n",
       "      <th>1</th>\n",
       "      <td>https://www.cars24.com/buy-used-maruti-ertiga-...</td>\n",
       "      <td>Maruti</td>\n",
       "      <td>Ertiga VXI AT SHVS</td>\n",
       "      <td>2022</td>\n",
       "      <td>35,378 km</td>\n",
       "      <td>Petrol</td>\n",
       "      <td>1st owner</td>\n",
       "      <td>₹10.84L</td>\n",
       "      <td>Bachupally, Hyderabad</td>\n",
       "      <td>May 2022</td>\n",
       "      <td>2022</td>\n",
       "      <td>TS12-EU4555Engine</td>\n",
       "      <td>1462 cc</td>\n",
       "      <td>YesTransmission</td>\n",
       "      <td>AutomaticKM</td>\n",
       "      <td>35,378 km</td>\n",
       "      <td>Petrol2022</td>\n",
       "    </tr>\n",
       "    <tr>\n",
       "      <th>2</th>\n",
       "      <td>https://www.cars24.com/buy-used-maruti-alto-k1...</td>\n",
       "      <td>Maruti</td>\n",
       "      <td>Alto K10 VXI</td>\n",
       "      <td>2022</td>\n",
       "      <td>22,864 km</td>\n",
       "      <td>Petrol</td>\n",
       "      <td>1st owner</td>\n",
       "      <td>₹4.15L</td>\n",
       "      <td>Bachupally, Hyderabad</td>\n",
       "      <td>Nov 2022</td>\n",
       "      <td>2022</td>\n",
       "      <td>TS07-JM3858Engine</td>\n",
       "      <td>998 cc</td>\n",
       "      <td>YesTransmission</td>\n",
       "      <td>ManualKM</td>\n",
       "      <td>22,864 km</td>\n",
       "      <td>Petrol2022</td>\n",
       "    </tr>\n",
       "    <tr>\n",
       "      <th>3</th>\n",
       "      <td>https://www.cars24.com/buy-used-maruti-baleno-...</td>\n",
       "      <td>Maruti</td>\n",
       "      <td>Baleno DELTA PETROL 1.2</td>\n",
       "      <td>2016</td>\n",
       "      <td>55,511 km</td>\n",
       "      <td>Petrol</td>\n",
       "      <td>2nd owner</td>\n",
       "      <td>₹4.91L</td>\n",
       "      <td>Kompally, Hyderabad</td>\n",
       "      <td>Oct 2016</td>\n",
       "      <td>2016</td>\n",
       "      <td>TS07-FE5376Engine</td>\n",
       "      <td>1197 cc</td>\n",
       "      <td>YesTransmission</td>\n",
       "      <td>ManualKM</td>\n",
       "      <td>55,511 km</td>\n",
       "      <td>Petrol2016</td>\n",
       "    </tr>\n",
       "    <tr>\n",
       "      <th>4</th>\n",
       "      <td>https://www.cars24.com/buy-used-maruti-alto-80...</td>\n",
       "      <td>Maruti</td>\n",
       "      <td>Alto 800 LXI</td>\n",
       "      <td>2014</td>\n",
       "      <td>43,780 km</td>\n",
       "      <td>Petrol</td>\n",
       "      <td>1st owner</td>\n",
       "      <td>₹2.39L</td>\n",
       "      <td>Kompally, Hyderabad</td>\n",
       "      <td>Aug 2014</td>\n",
       "      <td>2014</td>\n",
       "      <td>TS08-EC0838Engine</td>\n",
       "      <td>796 cc</td>\n",
       "      <td>NoTransmission</td>\n",
       "      <td>ManualKM</td>\n",
       "      <td>43,780 km</td>\n",
       "      <td>Petrol2014</td>\n",
       "    </tr>\n",
       "  </tbody>\n",
       "</table>\n",
       "</div>"
      ],
      "text/plain": [
       "                                                link    make  \\\n",
       "0  https://www.cars24.com/buy-used-maruti-swift-d...  Maruti   \n",
       "1  https://www.cars24.com/buy-used-maruti-ertiga-...  Maruti   \n",
       "2  https://www.cars24.com/buy-used-maruti-alto-k1...  Maruti   \n",
       "3  https://www.cars24.com/buy-used-maruti-baleno-...  Maruti   \n",
       "4  https://www.cars24.com/buy-used-maruti-alto-80...  Maruti   \n",
       "\n",
       "                     model  year_of_manufacture    km_driven fuel_type  \\\n",
       "0          Swift Dzire VDI                 2013  1,09,035 km    Diesel   \n",
       "1       Ertiga VXI AT SHVS                 2022    35,378 km    Petrol   \n",
       "2             Alto K10 VXI                 2022    22,864 km    Petrol   \n",
       "3  Baleno DELTA PETROL 1.2                 2016    55,511 km    Petrol   \n",
       "4             Alto 800 LXI                 2014    43,780 km    Petrol   \n",
       "\n",
       "   ownership    price               location  Reg year  Make year  \\\n",
       "0  2nd owner   ₹4.25L  Bachupally, Hyderabad  Apr 2013       2013   \n",
       "1  1st owner  ₹10.84L  Bachupally, Hyderabad  May 2022       2022   \n",
       "2  1st owner   ₹4.15L  Bachupally, Hyderabad  Nov 2022       2022   \n",
       "3  2nd owner   ₹4.91L    Kompally, Hyderabad  Oct 2016       2016   \n",
       "4  1st owner   ₹2.39L    Kompally, Hyderabad  Aug 2014       2014   \n",
       "\n",
       "          Reg number Engine capacity        Spare key Transmission  \\\n",
       "0  AP10-BD4428Engine         1248 cc  YesTransmission     ManualKM   \n",
       "1  TS12-EU4555Engine         1462 cc  YesTransmission  AutomaticKM   \n",
       "2  TS07-JM3858Engine          998 cc  YesTransmission     ManualKM   \n",
       "3  TS07-FE5376Engine         1197 cc  YesTransmission     ManualKM   \n",
       "4  TS08-EC0838Engine          796 cc   NoTransmission     ManualKM   \n",
       "\n",
       "    KM driven   Fuel type  \n",
       "0  109,035 km  Diesel2013  \n",
       "1   35,378 km  Petrol2022  \n",
       "2   22,864 km  Petrol2022  \n",
       "3   55,511 km  Petrol2016  \n",
       "4   43,780 km  Petrol2014  "
      ]
     },
     "execution_count": 1,
     "metadata": {},
     "output_type": "execute_result"
    }
   ],
   "source": [
    "import pandas as pd\n",
    "\n",
    "# Load the Cars24 dataset\n",
    "cars_data = pd.read_csv('cars_details.csv')\n",
    "\n",
    "# View the first few rows\n",
    "cars_data.head()\n"
   ]
  },
  {
   "cell_type": "code",
   "execution_count": 2,
   "metadata": {},
   "outputs": [],
   "source": [
    "#some of the columns should be remove because it is not necessary\n",
    "cars_data.drop(['link', 'Reg year', 'Make year', 'Reg number', 'Engine capacity', 'Spare key', 'KM driven', 'Fuel type'], axis=1, inplace=True)"
   ]
  },
  {
   "cell_type": "code",
   "execution_count": 3,
   "metadata": {},
   "outputs": [],
   "source": [
    "cars_data.rename(columns={'make':'Make','model':'Model','year_of_manufacture':'Year_of_Manufacture','km_driven':'Km_Driven',\n",
    "                   'fuel_type':'Fuel_Type','ownership':'Ownership','price':'Price','location':'Location'},inplace=True)"
   ]
  },
  {
   "cell_type": "code",
   "execution_count": 4,
   "metadata": {},
   "outputs": [
    {
     "data": {
      "text/html": [
       "<div>\n",
       "<style scoped>\n",
       "    .dataframe tbody tr th:only-of-type {\n",
       "        vertical-align: middle;\n",
       "    }\n",
       "\n",
       "    .dataframe tbody tr th {\n",
       "        vertical-align: top;\n",
       "    }\n",
       "\n",
       "    .dataframe thead th {\n",
       "        text-align: right;\n",
       "    }\n",
       "</style>\n",
       "<table border=\"1\" class=\"dataframe\">\n",
       "  <thead>\n",
       "    <tr style=\"text-align: right;\">\n",
       "      <th></th>\n",
       "      <th>Make</th>\n",
       "      <th>Model</th>\n",
       "      <th>Year_of_Manufacture</th>\n",
       "      <th>Km_Driven</th>\n",
       "      <th>Fuel_Type</th>\n",
       "      <th>Ownership</th>\n",
       "      <th>Price</th>\n",
       "      <th>Location</th>\n",
       "      <th>Transmission</th>\n",
       "    </tr>\n",
       "  </thead>\n",
       "  <tbody>\n",
       "    <tr>\n",
       "      <th>0</th>\n",
       "      <td>Maruti</td>\n",
       "      <td>Swift Dzire VDI</td>\n",
       "      <td>2013</td>\n",
       "      <td>1,09,035 km</td>\n",
       "      <td>Diesel</td>\n",
       "      <td>2nd owner</td>\n",
       "      <td>₹4.25L</td>\n",
       "      <td>Bachupally, Hyderabad</td>\n",
       "      <td>ManualKM</td>\n",
       "    </tr>\n",
       "    <tr>\n",
       "      <th>1</th>\n",
       "      <td>Maruti</td>\n",
       "      <td>Ertiga VXI AT SHVS</td>\n",
       "      <td>2022</td>\n",
       "      <td>35,378 km</td>\n",
       "      <td>Petrol</td>\n",
       "      <td>1st owner</td>\n",
       "      <td>₹10.84L</td>\n",
       "      <td>Bachupally, Hyderabad</td>\n",
       "      <td>AutomaticKM</td>\n",
       "    </tr>\n",
       "    <tr>\n",
       "      <th>2</th>\n",
       "      <td>Maruti</td>\n",
       "      <td>Alto K10 VXI</td>\n",
       "      <td>2022</td>\n",
       "      <td>22,864 km</td>\n",
       "      <td>Petrol</td>\n",
       "      <td>1st owner</td>\n",
       "      <td>₹4.15L</td>\n",
       "      <td>Bachupally, Hyderabad</td>\n",
       "      <td>ManualKM</td>\n",
       "    </tr>\n",
       "    <tr>\n",
       "      <th>3</th>\n",
       "      <td>Maruti</td>\n",
       "      <td>Baleno DELTA PETROL 1.2</td>\n",
       "      <td>2016</td>\n",
       "      <td>55,511 km</td>\n",
       "      <td>Petrol</td>\n",
       "      <td>2nd owner</td>\n",
       "      <td>₹4.91L</td>\n",
       "      <td>Kompally, Hyderabad</td>\n",
       "      <td>ManualKM</td>\n",
       "    </tr>\n",
       "    <tr>\n",
       "      <th>4</th>\n",
       "      <td>Maruti</td>\n",
       "      <td>Alto 800 LXI</td>\n",
       "      <td>2014</td>\n",
       "      <td>43,780 km</td>\n",
       "      <td>Petrol</td>\n",
       "      <td>1st owner</td>\n",
       "      <td>₹2.39L</td>\n",
       "      <td>Kompally, Hyderabad</td>\n",
       "      <td>ManualKM</td>\n",
       "    </tr>\n",
       "  </tbody>\n",
       "</table>\n",
       "</div>"
      ],
      "text/plain": [
       "     Make                    Model  Year_of_Manufacture    Km_Driven  \\\n",
       "0  Maruti          Swift Dzire VDI                 2013  1,09,035 km   \n",
       "1  Maruti       Ertiga VXI AT SHVS                 2022    35,378 km   \n",
       "2  Maruti             Alto K10 VXI                 2022    22,864 km   \n",
       "3  Maruti  Baleno DELTA PETROL 1.2                 2016    55,511 km   \n",
       "4  Maruti             Alto 800 LXI                 2014    43,780 km   \n",
       "\n",
       "  Fuel_Type  Ownership    Price               Location Transmission  \n",
       "0    Diesel  2nd owner   ₹4.25L  Bachupally, Hyderabad     ManualKM  \n",
       "1    Petrol  1st owner  ₹10.84L  Bachupally, Hyderabad  AutomaticKM  \n",
       "2    Petrol  1st owner   ₹4.15L  Bachupally, Hyderabad     ManualKM  \n",
       "3    Petrol  2nd owner   ₹4.91L    Kompally, Hyderabad     ManualKM  \n",
       "4    Petrol  1st owner   ₹2.39L    Kompally, Hyderabad     ManualKM  "
      ]
     },
     "execution_count": 4,
     "metadata": {},
     "output_type": "execute_result"
    }
   ],
   "source": [
    "cars_data.head()"
   ]
  },
  {
   "cell_type": "markdown",
   "metadata": {},
   "source": [
    "# Exploratory Data Analysis"
   ]
  },
  {
   "cell_type": "code",
   "execution_count": 5,
   "metadata": {},
   "outputs": [
    {
     "data": {
      "text/plain": [
       "(214, 9)"
      ]
     },
     "execution_count": 5,
     "metadata": {},
     "output_type": "execute_result"
    }
   ],
   "source": [
    "cars_data.shape"
   ]
  },
  {
   "cell_type": "code",
   "execution_count": 6,
   "metadata": {},
   "outputs": [
    {
     "data": {
      "text/plain": [
       "Make                   0.0\n",
       "Model                  0.0\n",
       "Year_of_Manufacture    0.0\n",
       "Km_Driven              0.0\n",
       "Fuel_Type              0.0\n",
       "Ownership              0.0\n",
       "Price                  0.0\n",
       "Location               0.0\n",
       "Transmission           0.0\n",
       "dtype: float64"
      ]
     },
     "execution_count": 6,
     "metadata": {},
     "output_type": "execute_result"
    }
   ],
   "source": [
    "#checking null values\n",
    "(cars_data.isna().sum())/len(cars_data)*100"
   ]
  },
  {
   "cell_type": "code",
   "execution_count": 7,
   "metadata": {},
   "outputs": [
    {
     "data": {
      "text/plain": [
       "Make                   False\n",
       "Model                  False\n",
       "Year_of_Manufacture    False\n",
       "Km_Driven              False\n",
       "Fuel_Type              False\n",
       "Ownership              False\n",
       "Price                  False\n",
       "Location               False\n",
       "Transmission           False\n",
       "dtype: bool"
      ]
     },
     "execution_count": 7,
     "metadata": {},
     "output_type": "execute_result"
    }
   ],
   "source": [
    "cars_data.isna().any()"
   ]
  },
  {
   "cell_type": "code",
   "execution_count": 8,
   "metadata": {},
   "outputs": [
    {
     "data": {
      "text/plain": [
       "0"
      ]
     },
     "execution_count": 8,
     "metadata": {},
     "output_type": "execute_result"
    }
   ],
   "source": [
    "# checking duplicates\n",
    "cars_data.duplicated().sum()"
   ]
  },
  {
   "cell_type": "code",
   "execution_count": 9,
   "metadata": {},
   "outputs": [
    {
     "data": {
      "text/html": [
       "<div>\n",
       "<style scoped>\n",
       "    .dataframe tbody tr th:only-of-type {\n",
       "        vertical-align: middle;\n",
       "    }\n",
       "\n",
       "    .dataframe tbody tr th {\n",
       "        vertical-align: top;\n",
       "    }\n",
       "\n",
       "    .dataframe thead th {\n",
       "        text-align: right;\n",
       "    }\n",
       "</style>\n",
       "<table border=\"1\" class=\"dataframe\">\n",
       "  <thead>\n",
       "    <tr style=\"text-align: right;\">\n",
       "      <th></th>\n",
       "      <th>Make</th>\n",
       "      <th>Model</th>\n",
       "      <th>Year_of_Manufacture</th>\n",
       "      <th>Km_Driven</th>\n",
       "      <th>Fuel_Type</th>\n",
       "      <th>Ownership</th>\n",
       "      <th>Price</th>\n",
       "      <th>Location</th>\n",
       "      <th>Transmission</th>\n",
       "    </tr>\n",
       "  </thead>\n",
       "  <tbody>\n",
       "  </tbody>\n",
       "</table>\n",
       "</div>"
      ],
      "text/plain": [
       "Empty DataFrame\n",
       "Columns: [Make, Model, Year_of_Manufacture, Km_Driven, Fuel_Type, Ownership, Price, Location, Transmission]\n",
       "Index: []"
      ]
     },
     "execution_count": 9,
     "metadata": {},
     "output_type": "execute_result"
    }
   ],
   "source": [
    "cars_data[cars_data.duplicated()]"
   ]
  },
  {
   "cell_type": "code",
   "execution_count": 10,
   "metadata": {},
   "outputs": [
    {
     "data": {
      "text/plain": [
       "Make                   object\n",
       "Model                  object\n",
       "Year_of_Manufacture     int64\n",
       "Km_Driven              object\n",
       "Fuel_Type              object\n",
       "Ownership              object\n",
       "Price                  object\n",
       "Location               object\n",
       "Transmission           object\n",
       "dtype: object"
      ]
     },
     "execution_count": 10,
     "metadata": {},
     "output_type": "execute_result"
    }
   ],
   "source": [
    "# checking datatypes\n",
    "cars_data.dtypes"
   ]
  },
  {
   "cell_type": "code",
   "execution_count": 11,
   "metadata": {},
   "outputs": [
    {
     "data": {
      "text/html": [
       "<div>\n",
       "<style scoped>\n",
       "    .dataframe tbody tr th:only-of-type {\n",
       "        vertical-align: middle;\n",
       "    }\n",
       "\n",
       "    .dataframe tbody tr th {\n",
       "        vertical-align: top;\n",
       "    }\n",
       "\n",
       "    .dataframe thead th {\n",
       "        text-align: right;\n",
       "    }\n",
       "</style>\n",
       "<table border=\"1\" class=\"dataframe\">\n",
       "  <thead>\n",
       "    <tr style=\"text-align: right;\">\n",
       "      <th></th>\n",
       "      <th>Year_of_Manufacture</th>\n",
       "    </tr>\n",
       "  </thead>\n",
       "  <tbody>\n",
       "    <tr>\n",
       "      <th>count</th>\n",
       "      <td>214.000000</td>\n",
       "    </tr>\n",
       "    <tr>\n",
       "      <th>mean</th>\n",
       "      <td>2018.266355</td>\n",
       "    </tr>\n",
       "    <tr>\n",
       "      <th>std</th>\n",
       "      <td>2.929386</td>\n",
       "    </tr>\n",
       "    <tr>\n",
       "      <th>min</th>\n",
       "      <td>2011.000000</td>\n",
       "    </tr>\n",
       "    <tr>\n",
       "      <th>25%</th>\n",
       "      <td>2017.000000</td>\n",
       "    </tr>\n",
       "    <tr>\n",
       "      <th>50%</th>\n",
       "      <td>2018.000000</td>\n",
       "    </tr>\n",
       "    <tr>\n",
       "      <th>75%</th>\n",
       "      <td>2021.000000</td>\n",
       "    </tr>\n",
       "    <tr>\n",
       "      <th>max</th>\n",
       "      <td>2023.000000</td>\n",
       "    </tr>\n",
       "  </tbody>\n",
       "</table>\n",
       "</div>"
      ],
      "text/plain": [
       "       Year_of_Manufacture\n",
       "count           214.000000\n",
       "mean           2018.266355\n",
       "std               2.929386\n",
       "min            2011.000000\n",
       "25%            2017.000000\n",
       "50%            2018.000000\n",
       "75%            2021.000000\n",
       "max            2023.000000"
      ]
     },
     "execution_count": 11,
     "metadata": {},
     "output_type": "execute_result"
    }
   ],
   "source": [
    "# describe\n",
    "cars_data.describe()"
   ]
  },
  {
   "cell_type": "code",
   "execution_count": 12,
   "metadata": {},
   "outputs": [
    {
     "name": "stdout",
     "output_type": "stream",
     "text": [
      "<class 'pandas.core.frame.DataFrame'>\n",
      "RangeIndex: 214 entries, 0 to 213\n",
      "Data columns (total 9 columns):\n",
      " #   Column               Non-Null Count  Dtype \n",
      "---  ------               --------------  ----- \n",
      " 0   Make                 214 non-null    object\n",
      " 1   Model                214 non-null    object\n",
      " 2   Year_of_Manufacture  214 non-null    int64 \n",
      " 3   Km_Driven            214 non-null    object\n",
      " 4   Fuel_Type            214 non-null    object\n",
      " 5   Ownership            214 non-null    object\n",
      " 6   Price                214 non-null    object\n",
      " 7   Location             214 non-null    object\n",
      " 8   Transmission         214 non-null    object\n",
      "dtypes: int64(1), object(8)\n",
      "memory usage: 15.2+ KB\n"
     ]
    }
   ],
   "source": [
    "# info\n",
    "cars_data.info()"
   ]
  },
  {
   "cell_type": "code",
   "execution_count": 13,
   "metadata": {},
   "outputs": [
    {
     "data": {
      "text/plain": [
       "Make\n",
       "Maruti    199\n",
       "Skoda      12\n",
       "Toyota      3\n",
       "Name: count, dtype: int64"
      ]
     },
     "execution_count": 13,
     "metadata": {},
     "output_type": "execute_result"
    }
   ],
   "source": [
    "# checking no of cars\n",
    "\n",
    "cars_data['Make'].value_counts()"
   ]
  },
  {
   "cell_type": "code",
   "execution_count": 14,
   "metadata": {},
   "outputs": [
    {
     "data": {
      "text/plain": [
       "Year_of_Manufacture\n",
       "2018    31\n",
       "2019    28\n",
       "2017    27\n",
       "2021    24\n",
       "2022    22\n",
       "2020    21\n",
       "2016    17\n",
       "2013    10\n",
       "2014    10\n",
       "2023    10\n",
       "2012     6\n",
       "2015     5\n",
       "2011     3\n",
       "Name: count, dtype: int64"
      ]
     },
     "execution_count": 14,
     "metadata": {},
     "output_type": "execute_result"
    }
   ],
   "source": [
    "# checking year\n",
    "\n",
    "cars_data['Year_of_Manufacture'].value_counts()"
   ]
  },
  {
   "cell_type": "code",
   "execution_count": 15,
   "metadata": {},
   "outputs": [
    {
     "data": {
      "text/plain": [
       "Fuel_Type\n",
       "Petrol    190\n",
       "Diesel     21\n",
       "CNG         3\n",
       "Name: count, dtype: int64"
      ]
     },
     "execution_count": 15,
     "metadata": {},
     "output_type": "execute_result"
    }
   ],
   "source": [
    "# checking fuel type\n",
    "\n",
    "cars_data['Fuel_Type'].value_counts()"
   ]
  },
  {
   "cell_type": "code",
   "execution_count": 16,
   "metadata": {},
   "outputs": [
    {
     "data": {
      "text/plain": [
       "Ownership\n",
       "1st owner    159\n",
       "2nd owner     53\n",
       "3rd owner      2\n",
       "Name: count, dtype: int64"
      ]
     },
     "execution_count": 16,
     "metadata": {},
     "output_type": "execute_result"
    }
   ],
   "source": [
    "# checking ownership\n",
    "\n",
    "cars_data['Ownership'].value_counts()"
   ]
  },
  {
   "cell_type": "code",
   "execution_count": 17,
   "metadata": {},
   "outputs": [
    {
     "data": {
      "text/plain": [
       "Transmission\n",
       "ManualKM       144\n",
       "AutomaticKM     70\n",
       "Name: count, dtype: int64"
      ]
     },
     "execution_count": 17,
     "metadata": {},
     "output_type": "execute_result"
    }
   ],
   "source": [
    "# checking transmission\n",
    "\n",
    "cars_data['Transmission'].value_counts()"
   ]
  },
  {
   "cell_type": "code",
   "execution_count": 18,
   "metadata": {
    "colab": {
     "base_uri": "https://localhost:8080/"
    },
    "id": "Doo-Tfb5386T",
    "outputId": "768766b3-21c9-4464-8ec7-7cf802780880"
   },
   "outputs": [
    {
     "name": "stdout",
     "output_type": "stream",
     "text": [
      "Empty DataFrame\n",
      "Columns: [Make, Model, Year_of_Manufacture, Km_Driven, Fuel_Type, Ownership, Price, Location, Transmission]\n",
      "Index: []\n"
     ]
    }
   ],
   "source": [
    "# Check for non-numeric values in the 'KiloMeter_Driven' column\n",
    "invalid_km_entries = cars_data[~cars_data['Km_Driven'].str.replace(' km', '').str.replace(',', '').str.isnumeric()]\n",
    "\n",
    "# Display the invalid entries\n",
    "print(invalid_km_entries)\n"
   ]
  },
  {
   "cell_type": "code",
   "execution_count": 19,
   "metadata": {
    "id": "--Gz2Umt3_st"
   },
   "outputs": [],
   "source": [
    "# Remove rows with invalid entries in 'KiloMeter_Driven'\n",
    "cars_data = cars_data[cars_data['Km_Driven'].str.replace(' km', '').str.replace(',', '').str.isnumeric()]\n"
   ]
  },
  {
   "cell_type": "code",
   "execution_count": 20,
   "metadata": {
    "id": "KHGmchpH4Y1w"
   },
   "outputs": [],
   "source": [
    "# Remove ' km' and commas, then convert to integer\n",
    "cars_data['Km_Driven'] = cars_data['Km_Driven'].str.replace(' km', '').str.replace(',', '').astype(int)"
   ]
  },
  {
   "cell_type": "code",
   "execution_count": 21,
   "metadata": {
    "id": "Y7YVt06u4b5F"
   },
   "outputs": [],
   "source": [
    "# Remove '₹' and 'L', then convert to float\n",
    "cars_data['Price'] = cars_data['Price'].str.replace('₹', '').str.replace('L', '').astype(float) * 100000\n"
   ]
  },
  {
   "cell_type": "code",
   "execution_count": 22,
   "metadata": {
    "id": "Al-ErlKJ4q9x"
   },
   "outputs": [],
   "source": [
    "# Remove invalid rows where KiloMeter_Driven contains non-numeric values\n",
    "cars_data = cars_data[~cars_data['Km_Driven'].isin(['Petrol', 'Diesel'])]\n"
   ]
  },
  {
   "cell_type": "code",
   "execution_count": 23,
   "metadata": {
    "colab": {
     "base_uri": "https://localhost:8080/"
    },
    "id": "LgMAZY6F4tgE",
    "outputId": "4a277421-bc69-4cbd-d9c2-50dd750002e0"
   },
   "outputs": [
    {
     "name": "stdout",
     "output_type": "stream",
     "text": [
      "Make\n",
      "Skoda     969250.000000\n",
      "Toyota    960666.666667\n",
      "Maruti    552994.974874\n",
      "Name: Price, dtype: float64\n"
     ]
    }
   ],
   "source": [
    "# Group by car brand and calculate the average price\n",
    "avg_price_per_brand = cars_data.groupby('Make')['Price'].mean().sort_values(ascending=False)\n",
    "print(avg_price_per_brand)\n"
   ]
  },
  {
   "cell_type": "code",
   "execution_count": 24,
   "metadata": {
    "colab": {
     "base_uri": "https://localhost:8080/"
    },
    "id": "8BhogNzD4yGH",
    "outputId": "be63392c-0d6b-43c9-8491-fd0dd5465629"
   },
   "outputs": [
    {
     "name": "stdout",
     "output_type": "stream",
     "text": [
      "Make\n",
      "Skoda     66179.250000\n",
      "Maruti    56578.708543\n",
      "Toyota    40967.000000\n",
      "Name: Km_Driven, dtype: float64\n"
     ]
    }
   ],
   "source": [
    "# Group by car brand and calculate the average kilometers driven\n",
    "avg_km_per_brand = cars_data.groupby('Make')['Km_Driven'].mean().sort_values(ascending=False)\n",
    "print(avg_km_per_brand)\n"
   ]
  },
  {
   "cell_type": "code",
   "execution_count": 25,
   "metadata": {
    "colab": {
     "base_uri": "https://localhost:8080/"
    },
    "id": "HrfIIBr14053",
    "outputId": "0fb28f83-5c33-4b88-ab57-55e812687237"
   },
   "outputs": [
    {
     "name": "stdout",
     "output_type": "stream",
     "text": [
      "Year_of_Manufacture\n",
      "2022    842772.727273\n",
      "2023    826800.000000\n",
      "2021    694000.000000\n",
      "2020    622857.142857\n",
      "2019    607321.428571\n",
      "2018    560032.258065\n",
      "2015    557800.000000\n",
      "2017    512740.740741\n",
      "2016    455647.058824\n",
      "2014    357700.000000\n",
      "2013    331500.000000\n",
      "2012    304166.666667\n",
      "2011    184000.000000\n",
      "Name: Price, dtype: float64\n"
     ]
    }
   ],
   "source": [
    "# Group by year and calculate the average price\n",
    "avg_price_per_year = cars_data.groupby('Year_of_Manufacture')['Price'].mean().sort_values(ascending=False)\n",
    "print(avg_price_per_year)\n"
   ]
  },
  {
   "cell_type": "markdown",
   "metadata": {
    "id": "RlzP1WBj5HSM"
   },
   "source": [
    "# **Average Price per Brand (Bar Chart)**"
   ]
  },
  {
   "cell_type": "code",
   "execution_count": 26,
   "metadata": {
    "colab": {
     "base_uri": "https://localhost:8080/",
     "height": 519
    },
    "id": "46vC04pF46Pp",
    "outputId": "c92918d3-bde8-48c3-e6f5-970ecd18a542"
   },
   "outputs": [
    {
     "data": {
      "image/png": "[encoded data removed]",
      "text/plain": [
       "<Figure size 1000x500 with 1 Axes>"
      ]
     },
     "metadata": {},
     "output_type": "display_data"
    }
   ],
   "source": [
    "import matplotlib.pyplot as plt\n",
    "\n",
    "# Plot average price per brand\n",
    "avg_price_per_brand.plot(kind='bar', figsize=(10, 5))\n",
    "plt.title('Average Price per Car Brand')\n",
    "plt.ylabel('Price (INR)')\n",
    "plt.show()"
   ]
  },
  {
   "cell_type": "markdown",
   "metadata": {
    "id": "rewFyXZ95YU-"
   },
   "source": [
    "**Price vs. Kilometers Driven (Scatter Plot):**"
   ]
  },
  {
   "cell_type": "code",
   "execution_count": 27,
   "metadata": {
    "colab": {
     "base_uri": "https://localhost:8080/",
     "height": 487
    },
    "id": "cLvidWzw5j7B",
    "outputId": "3c6313c6-9a92-4918-e06a-86dc25e3f9f2"
   },
   "outputs": [
    {
     "data": {
      "image/png": "[encoded data removed]",
      "text/plain": [
       "<Figure size 1000x500 with 1 Axes>"
      ]
     },
     "metadata": {},
     "output_type": "display_data"
    }
   ],
   "source": [
    "# Scatter plot of Price vs Kilometers Driven\n",
    "cars_data.plot(kind='scatter', x='Km_Driven', y='Price', alpha=0.5, figsize=(10, 5))\n",
    "plt.title('Price vs Kilometers Driven')\n",
    "plt.xlabel('Kilometers Driven')\n",
    "plt.ylabel('Price (INR)')\n",
    "plt.show()\n"
   ]
  },
  {
   "cell_type": "code",
   "execution_count": 28,
   "metadata": {
    "colab": {
     "base_uri": "https://localhost:8080/",
     "height": 430
    },
    "id": "asWSijtC6CnI",
    "outputId": "a5b8a27d-5681-48ea-b51b-ca2a1ff5fff0"
   },
   "outputs": [
    {
     "data": {
      "image/png": "[encoded data removed]",
      "text/plain": [
       "<Figure size 640x480 with 1 Axes>"
      ]
     },
     "metadata": {},
     "output_type": "display_data"
    }
   ],
   "source": [
    "# @title Name\n",
    "\n",
    "from matplotlib import pyplot as plt\n",
    "import seaborn as sns\n",
    "cars_data.groupby('Make').size().plot(kind='barh', color=sns.palettes.mpl_palette('Dark2'))\n",
    "plt.gca().spines[['top', 'right',]].set_visible(False)"
   ]
  },
  {
   "cell_type": "code",
   "execution_count": 29,
   "metadata": {
    "colab": {
     "base_uri": "https://localhost:8080/",
     "height": 1000
    },
    "id": "GguPqkIu5mF6",
    "outputId": "6e370ade-2f83-4f0d-ed85-557e25bad91a"
   },
   "outputs": [
    {
     "name": "stdout",
     "output_type": "stream",
     "text": [
      "Correlation between Price and Kilometers Driven: -0.20865924582623624\n"
     ]
    },
    {
     "name": "stderr",
     "output_type": "stream",
     "text": [
      "C:\\Users\\USER\\anaconda3\\Lib\\site-packages\\seaborn\\_oldcore.py:1119: FutureWarning: use_inf_as_na option is deprecated and will be removed in a future version. Convert inf values to NaN before operating instead.\n",
      "  with pd.option_context('mode.use_inf_as_na', True):\n"
     ]
    },
    {
     "data": {
      "image/png": "[encoded data removed]",
      "text/plain": [
       "<Figure size 800x600 with 1 Axes>"
      ]
     },
     "metadata": {},
     "output_type": "display_data"
    },
    {
     "name": "stderr",
     "output_type": "stream",
     "text": [
      "C:\\Users\\USER\\anaconda3\\Lib\\site-packages\\seaborn\\_oldcore.py:1119: FutureWarning: use_inf_as_na option is deprecated and will be removed in a future version. Convert inf values to NaN before operating instead.\n",
      "  with pd.option_context('mode.use_inf_as_na', True):\n"
     ]
    },
    {
     "data": {
      "image/png": "[encoded data removed]",
      "text/plain": [
       "<Figure size 800x600 with 1 Axes>"
      ]
     },
     "metadata": {},
     "output_type": "display_data"
    },
    {
     "data": {
      "image/png": "[encoded data removed]",
      "text/plain": [
       "<Figure size 1000x600 with 1 Axes>"
      ]
     },
     "metadata": {},
     "output_type": "display_data"
    }
   ],
   "source": [
    "# prompt: insights please\n",
    "\n",
    "# Calculate the correlation between price and kilometers driven\n",
    "correlation = cars_data['Price'].corr(cars_data['Km_Driven'])\n",
    "print(f\"Correlation between Price and Kilometers Driven: {correlation}\")\n",
    "\n",
    "# Analyze the distribution of car prices\n",
    "plt.figure(figsize=(8, 6))\n",
    "sns.histplot(cars_data['Price'], bins=20)\n",
    "plt.title('Distribution of Car Prices')\n",
    "plt.xlabel('Price (INR)')\n",
    "plt.ylabel('Frequency')\n",
    "plt.show()\n",
    "\n",
    "# Analyze the distribution of kilometers driven\n",
    "plt.figure(figsize=(8, 6))\n",
    "sns.histplot(cars_data['Km_Driven'], bins=20)\n",
    "plt.title('Distribution of Kilometers Driven')\n",
    "plt.xlabel('Kilometers Driven')\n",
    "plt.ylabel('Frequency')\n",
    "plt.show()\n",
    "\n",
    "# Analyze the relationship between price and year of manufacture\n",
    "plt.figure(figsize=(10, 6))\n",
    "sns.boxplot(x='Year_of_Manufacture', y='Price', data=cars_data)\n",
    "plt.title('Price vs Year of Manufacture')\n",
    "plt.xlabel('Year of Manufacture')\n",
    "plt.ylabel('Price (INR)')\n",
    "plt.xticks(rotation=45)\n",
    "plt.show()\n"
   ]
  },
  {
   "cell_type": "code",
   "execution_count": 30,
   "metadata": {
    "colab": {
     "base_uri": "https://localhost:8080/",
     "height": 1000
    },
    "id": "gCi928Wa7f6h",
    "outputId": "3b7b1eda-8b05-4018-f7e2-4a024c4ebcf4"
   },
   "outputs": [
    {
     "name": "stdout",
     "output_type": "stream",
     "text": [
      "    Brand  Average Price  Average Kilometers Driven\n",
      "0  Maruti  552994.974874               56578.708543\n",
      "1   Skoda  969250.000000               66179.250000\n",
      "2  Toyota  960666.666667               40967.000000\n"
     ]
    },
    {
     "data": {
      "image/png": "[encoded data removed]",
      "text/plain": [
       "<Figure size 1000x600 with 1 Axes>"
      ]
     },
     "metadata": {},
     "output_type": "display_data"
    },
    {
     "data": {
      "image/png": "[encoded data removed]",
      "text/plain": [
       "<Figure size 1000x600 with 1 Axes>"
      ]
     },
     "metadata": {},
     "output_type": "display_data"
    }
   ],
   "source": [
    "# Filter data for Maruti, Skoda, and Toyota\n",
    "maruti_data = cars_data[cars_data['Make'] == 'Maruti']\n",
    "skoda_data = cars_data[cars_data['Make'] == 'Skoda']\n",
    "toyota_data = cars_data[cars_data['Make'] == 'Toyota']\n",
    "\n",
    "# Calculate average price for each brand\n",
    "avg_price_maruti = maruti_data['Price'].mean()\n",
    "avg_price_skoda = skoda_data['Price'].mean()\n",
    "avg_price_toyota = toyota_data['Price'].mean()\n",
    "\n",
    "# Calculate average kilometers driven for each brand\n",
    "avg_km_maruti = maruti_data['Km_Driven'].mean()\n",
    "avg_km_skoda = skoda_data['Km_Driven'].mean()\n",
    "avg_km_toyota = toyota_data['Km_Driven'].mean()\n",
    "\n",
    "# Create a DataFrame for comparison\n",
    "comparison_df = pd.DataFrame({\n",
    "    'Brand': ['Maruti', 'Skoda', 'Toyota'],\n",
    "    'Average Price': [avg_price_maruti, avg_price_skoda, avg_price_toyota],\n",
    "    'Average Kilometers Driven': [avg_km_maruti, avg_km_skoda, avg_km_toyota]\n",
    "})\n",
    "\n",
    "print(comparison_df)\n",
    "\n",
    "# Visualize the comparison\n",
    "plt.figure(figsize=(10, 6))\n",
    "sns.barplot(x='Brand', y='Average Price', data=comparison_df)\n",
    "plt.title('Average Price Comparison')\n",
    "plt.show()\n",
    "\n",
    "plt.figure(figsize=(10, 6))\n",
    "sns.barplot(x='Brand', y='Average Kilometers Driven', data=comparison_df)\n",
    "plt.title('Average Kilometers Driven Comparison')\n",
    "plt.show()\n"
   ]
  },
  {
   "cell_type": "markdown",
   "metadata": {
    "id": "__Xobngn7g1q"
   },
   "source": [
    "Insights from the analysis:\n",
    "- There appears to be a negative correlation between price and kilometers driven, indicating that cars with higher mileage tend to have lower prices.\n",
    "- The distribution of car prices is skewed towards lower values, suggesting that a majority of cars are priced lower.\n",
    "- The distribution of kilometers driven also shows a tendency towards lower values.\n",
    "- There is a general trend of higher prices for cars manufactured in more recent years.\n",
    "- Maruti appears to have the lowest average price compared to Skoda and Toyota.\n",
    "- Skoda has the highest average price.\n",
    "- There isn't a significant difference in average kilometers driven between the three brands."
   ]
  },
  {
   "cell_type": "code",
   "execution_count": 31,
   "metadata": {
    "id": "GdWmJoaJ9KQw"
   },
   "outputs": [
    {
     "name": "stdout",
     "output_type": "stream",
     "text": [
      "Directory 'my_data' created or already exists.\n"
     ]
    }
   ],
   "source": [
    "import os\n",
    "\n",
    "# Create a new directory called 'my_data' in the current working directory\n",
    "os.makedirs('my_data', exist_ok=True)\n",
    "\n",
    "# Check if the directory was created\n",
    "print(\"Directory 'my_data' created or already exists.\")"
   ]
  },
  {
   "cell_type": "code",
   "execution_count": 32,
   "metadata": {
    "id": "6j-WT17S9hoj"
   },
   "outputs": [
    {
     "name": "stdout",
     "output_type": "stream",
     "text": [
      "The current working directory is: C:\\Users\\USER\\DataScience [Python] Practice Folder\\Evoraastra Venture Intership\n"
     ]
    }
   ],
   "source": [
    "import os\n",
    "\n",
    "# Get and print the current working directory\n",
    "current_directory = os.getcwd()\n",
    "print(f\"The current working directory is: {current_directory}\")\n"
   ]
  },
  {
   "cell_type": "code",
   "execution_count": 33,
   "metadata": {},
   "outputs": [
    {
     "name": "stdout",
     "output_type": "stream",
     "text": [
      "Sample Cars24.csv file created in 'my_data' folder.\n"
     ]
    }
   ],
   "source": [
    "import pandas as pd\n",
    "\n",
    "# Create a sample dataset\n",
    "data = {\n",
    "    'Car Model': ['Toyota Camry', 'Honda Accord', 'Ford Mustang'],\n",
    "    'Year': [2020, 2021, 2022],\n",
    "    'Price': [24000, 26000, 30000]\n",
    "}\n",
    "\n",
    "# Create a DataFrame\n",
    "cars_data = pd.DataFrame(data)\n",
    "\n",
    "# Save it to a CSV file inside the 'my_data' directory\n",
    "cars_data.to_csv('my_data/Cars24.csv', index=False)\n",
    "\n",
    "print(\"Sample Cars24.csv file created in 'my_data' folder.\")\n"
   ]
  },
  {
   "cell_type": "code",
   "execution_count": 34,
   "metadata": {},
   "outputs": [
    {
     "name": "stdout",
     "output_type": "stream",
     "text": [
      "      Car Model  Year  Price\n",
      "0  Toyota Camry  2020  24000\n",
      "1  Honda Accord  2021  26000\n",
      "2  Ford Mustang  2022  30000\n"
     ]
    }
   ],
   "source": [
    "# Load the Cars24.csv file from the 'my_data' folder\n",
    "cars_data = pd.read_csv('my_data/Cars24.csv')\n",
    "\n",
    "# View the first few rows\n",
    "print(cars_data.head())\n"
   ]
  },
  {
   "cell_type": "code",
   "execution_count": 35,
   "metadata": {},
   "outputs": [],
   "source": [
    "# Save the cleaned data to a CSV file\n",
    "cars_data.to_csv('Cleaned_Cars24.csv', index=False)\n"
   ]
  },
  {
   "cell_type": "code",
   "execution_count": null,
   "metadata": {},
   "outputs": [],
   "source": []
  }
 ],
 "metadata": {
  "colab": {
   "provenance": []
  },
  "kernelspec": {
   "display_name": "Python 3 (ipykernel)",
   "language": "python",
   "name": "python3"
  },
  "language_info": {
   "codemirror_mode": {
    "name": "ipython",
    "version": 3
   },
   "file_extension": ".py",
   "mimetype": "text/x-python",
   "name": "python",
   "nbconvert_exporter": "python",
   "pygments_lexer": "ipython3",
   "version": "3.11.4"
  }
 },
 "nbformat": 4,
 "nbformat_minor": 4
}
